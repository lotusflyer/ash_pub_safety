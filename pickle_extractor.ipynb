{
 "cells": [
  {
   "cell_type": "markdown",
   "metadata": {},
   "source": [
    "# Pickle File Extractor for Crime Data"
   ]
  },
  {
   "cell_type": "code",
   "execution_count": 1,
   "metadata": {
    "collapsed": true
   },
   "outputs": [],
   "source": [
    "# imports\n",
    "import pandas as pd\n",
    "import pickle as pk"
   ]
  },
  {
   "cell_type": "code",
   "execution_count": 2,
   "metadata": {
    "collapsed": true
   },
   "outputs": [],
   "source": [
    "df = pd.read_csv(\"APD_Public_Incident_Data__Crime_Locations.csv\")"
   ]
  },
  {
   "cell_type": "code",
   "execution_count": 3,
   "metadata": {
    "collapsed": true
   },
   "outputs": [],
   "source": [
    "df['incident_dt'] = pd.to_datetime(df['date_occurred'])\n",
    "df.index = df['incident_dt']"
   ]
  },
  {
   "cell_type": "code",
   "execution_count": 4,
   "metadata": {},
   "outputs": [
    {
     "data": {
      "text/plain": [
       "LARCENY - THEFT                   27657\n",
       "NON-REPORTABLE                    13769\n",
       "SIMPLE ASSAULT                    10970\n",
       "BURGLARY                          10039\n",
       "FRAUD                              8368\n",
       "VANDALISM                          5033\n",
       "MOTOR VEHICLE THEFT                4874\n",
       "DRUG/NARCOTIC OFFENSES             4518\n",
       "ADDITIONAL OFFENSE CATEGORIES      3373\n",
       "ALL OTHER OFFENSES                 2367\n",
       "ROBBERY                            2359\n",
       "AGGRAVATED ASSAULT                 1535\n",
       "FORGERY AND COUNTERFEITING         1397\n",
       "EMBEZZLEMENT                        955\n",
       "DISORDERLY CONDUCT                  720\n",
       "WEAPON LAW VIOLATIONS               579\n",
       "STOLEN PROPERTY                     297\n",
       "ARSON                               141\n",
       "SEX OFFENSES                        139\n",
       "CRIMINAL HOMICIDE                    60\n",
       "OBSCENE MATERIAL / PORNOGRAPHY       57\n",
       "OFFENSES AGAINST FAMILY              45\n",
       "LIQUOR LAW VIOLATIONS                31\n",
       "DRIVING WHILE IMPAIRED               11\n",
       "PROSTITUTION OFFENSES                10\n",
       "GAMBLING OFFENSES                     2\n",
       "Name: offense_group_short_description, dtype: int64"
      ]
     },
     "execution_count": 4,
     "metadata": {},
     "output_type": "execute_result"
    }
   ],
   "source": [
    "df['offense_group_short_description'].value_counts()"
   ]
  },
  {
   "cell_type": "code",
   "execution_count": 13,
   "metadata": {
    "collapsed": true
   },
   "outputs": [],
   "source": [
    "lar_series = df[df['offense_group_short_description'] == 'LARCENY - THEFT']['offense_short_description']"
   ]
  },
  {
   "cell_type": "code",
   "execution_count": 19,
   "metadata": {},
   "outputs": [
    {
     "data": {
      "text/plain": [
       "incident_dt\n",
       "2008-12-15 11:00:00          LARCFEL\n",
       "2009-09-18 00:00:00    LARCENYFMBLDG\n",
       "2009-10-01 00:00:00    LARCENYFMBLDG\n",
       "2007-01-12 04:30:00      LARCENYFMMV\n",
       "2012-07-26 00:00:00    LARCENYFMBLDG\n",
       "Name: offense_short_description, dtype: object"
      ]
     },
     "execution_count": 19,
     "metadata": {},
     "output_type": "execute_result"
    }
   ],
   "source": [
    "lar_series.head()"
   ]
  },
  {
   "cell_type": "code",
   "execution_count": 16,
   "metadata": {
    "collapsed": true
   },
   "outputs": [],
   "source": [
    "lar_series.to_pickle('lar_series.pkl')"
   ]
  },
  {
   "cell_type": "code",
   "execution_count": 17,
   "metadata": {
    "collapsed": true
   },
   "outputs": [],
   "source": [
    "bur_series = df[df['offense_group_short_description'] == 'BURGLARY']['offense_short_description']"
   ]
  },
  {
   "cell_type": "code",
   "execution_count": 18,
   "metadata": {},
   "outputs": [
    {
     "data": {
      "text/plain": [
       "incident_dt\n",
       "2013-08-28 08:00:00    BEFELRESNOFORCE\n",
       "2007-12-23 02:11:23    BEFELBUSNOFORCE\n",
       "2005-12-08 12:00:00      BEMISRESFORCE\n",
       "2011-04-23 20:37:24    BEFELRESNOFORCE\n",
       "2017-09-09 20:30:26      BEFELRESFORCE\n",
       "Name: offense_short_description, dtype: object"
      ]
     },
     "execution_count": 18,
     "metadata": {},
     "output_type": "execute_result"
    }
   ],
   "source": [
    "bur_series.head()"
   ]
  },
  {
   "cell_type": "code",
   "execution_count": 20,
   "metadata": {
    "collapsed": true
   },
   "outputs": [],
   "source": [
    "bur_series.to_pickle('bur_series.pkl')"
   ]
  },
  {
   "cell_type": "code",
   "execution_count": null,
   "metadata": {
    "collapsed": true
   },
   "outputs": [],
   "source": []
  }
 ],
 "metadata": {
  "kernelspec": {
   "display_name": "Python 2",
   "language": "python",
   "name": "python2"
  },
  "language_info": {
   "codemirror_mode": {
    "name": "ipython",
    "version": 2
   },
   "file_extension": ".py",
   "mimetype": "text/x-python",
   "name": "python",
   "nbconvert_exporter": "python",
   "pygments_lexer": "ipython2",
   "version": "2.7.13"
  }
 },
 "nbformat": 4,
 "nbformat_minor": 2
}
