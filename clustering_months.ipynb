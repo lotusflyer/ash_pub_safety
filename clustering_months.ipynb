{
 "cells": [
  {
   "cell_type": "markdown",
   "metadata": {},
   "source": [
    "# Clustering Months"
   ]
  },
  {
   "cell_type": "code",
   "execution_count": 1,
   "metadata": {},
   "outputs": [],
   "source": [
    "import pandas as pd\n",
    "import matplotlib.pyplot as plt  \n",
    "%matplotlib inline\n",
    "import numpy as np  \n",
    "import calendar\n",
    "from sklearn.cluster import KMeans  \n",
    "from scipy.cluster.hierarchy import dendrogram, linkage"
   ]
  },
  {
   "cell_type": "code",
   "execution_count": 2,
   "metadata": {},
   "outputs": [],
   "source": [
    "df = pd.read_csv(\"APD_Public_Incident_Data__Crime_Locations.csv\")"
   ]
  },
  {
   "cell_type": "code",
   "execution_count": 3,
   "metadata": {},
   "outputs": [],
   "source": [
    "df['dt'] = pd.to_datetime(df['date_occurred'])"
   ]
  },
  {
   "cell_type": "code",
   "execution_count": 4,
   "metadata": {},
   "outputs": [],
   "source": [
    "in_df = pd.DataFrame(df[['dt','offense_group_short_description']])"
   ]
  },
  {
   "cell_type": "code",
   "execution_count": 5,
   "metadata": {},
   "outputs": [],
   "source": [
    "in_df.columns = ['dt', 'offense']"
   ]
  },
  {
   "cell_type": "code",
   "execution_count": 6,
   "metadata": {},
   "outputs": [],
   "source": [
    "def get_month(dt):\n",
    "    # return dt.strftime(\"%B\")\n",
    "    return int(dt.strftime(\"%-m\"))"
   ]
  },
  {
   "cell_type": "code",
   "execution_count": 7,
   "metadata": {},
   "outputs": [],
   "source": [
    "in_df['month'] = in_df['dt'].apply(get_month)"
   ]
  },
  {
   "cell_type": "code",
   "execution_count": 8,
   "metadata": {},
   "outputs": [],
   "source": [
    "in_df.drop(['dt'], axis=1, inplace=True)"
   ]
  },
  {
   "cell_type": "code",
   "execution_count": 9,
   "metadata": {},
   "outputs": [],
   "source": [
    "in_df['count'] = 1"
   ]
  },
  {
   "cell_type": "code",
   "execution_count": 10,
   "metadata": {},
   "outputs": [
    {
     "data": {
      "text/html": [
       "<div>\n",
       "<style scoped>\n",
       "    .dataframe tbody tr th:only-of-type {\n",
       "        vertical-align: middle;\n",
       "    }\n",
       "\n",
       "    .dataframe tbody tr th {\n",
       "        vertical-align: top;\n",
       "    }\n",
       "\n",
       "    .dataframe thead th {\n",
       "        text-align: right;\n",
       "    }\n",
       "</style>\n",
       "<table border=\"1\" class=\"dataframe\">\n",
       "  <thead>\n",
       "    <tr style=\"text-align: right;\">\n",
       "      <th></th>\n",
       "      <th>offense</th>\n",
       "      <th>month</th>\n",
       "      <th>count</th>\n",
       "    </tr>\n",
       "  </thead>\n",
       "  <tbody>\n",
       "    <tr>\n",
       "      <th>0</th>\n",
       "      <td>VANDALISM</td>\n",
       "      <td>2</td>\n",
       "      <td>1</td>\n",
       "    </tr>\n",
       "    <tr>\n",
       "      <th>1</th>\n",
       "      <td>ROBBERY</td>\n",
       "      <td>5</td>\n",
       "      <td>1</td>\n",
       "    </tr>\n",
       "    <tr>\n",
       "      <th>2</th>\n",
       "      <td>SIMPLE ASSAULT</td>\n",
       "      <td>6</td>\n",
       "      <td>1</td>\n",
       "    </tr>\n",
       "    <tr>\n",
       "      <th>3</th>\n",
       "      <td>NON-REPORTABLE</td>\n",
       "      <td>2</td>\n",
       "      <td>1</td>\n",
       "    </tr>\n",
       "    <tr>\n",
       "      <th>4</th>\n",
       "      <td>SIMPLE ASSAULT</td>\n",
       "      <td>2</td>\n",
       "      <td>1</td>\n",
       "    </tr>\n",
       "  </tbody>\n",
       "</table>\n",
       "</div>"
      ],
      "text/plain": [
       "          offense  month  count\n",
       "0       VANDALISM      2      1\n",
       "1         ROBBERY      5      1\n",
       "2  SIMPLE ASSAULT      6      1\n",
       "3  NON-REPORTABLE      2      1\n",
       "4  SIMPLE ASSAULT      2      1"
      ]
     },
     "execution_count": 10,
     "metadata": {},
     "output_type": "execute_result"
    }
   ],
   "source": [
    "in_df.head()"
   ]
  },
  {
   "cell_type": "code",
   "execution_count": 11,
   "metadata": {},
   "outputs": [],
   "source": [
    "gb = in_df.groupby(['month', 'offense']).agg('count')"
   ]
  },
  {
   "cell_type": "code",
   "execution_count": 12,
   "metadata": {},
   "outputs": [],
   "source": [
    "gb = gb.reset_index()"
   ]
  },
  {
   "cell_type": "code",
   "execution_count": 13,
   "metadata": {},
   "outputs": [
    {
     "data": {
      "text/html": [
       "<div>\n",
       "<style scoped>\n",
       "    .dataframe tbody tr th:only-of-type {\n",
       "        vertical-align: middle;\n",
       "    }\n",
       "\n",
       "    .dataframe tbody tr th {\n",
       "        vertical-align: top;\n",
       "    }\n",
       "\n",
       "    .dataframe thead th {\n",
       "        text-align: right;\n",
       "    }\n",
       "</style>\n",
       "<table border=\"1\" class=\"dataframe\">\n",
       "  <thead>\n",
       "    <tr style=\"text-align: right;\">\n",
       "      <th></th>\n",
       "      <th>month</th>\n",
       "      <th>offense</th>\n",
       "      <th>count</th>\n",
       "    </tr>\n",
       "  </thead>\n",
       "  <tbody>\n",
       "    <tr>\n",
       "      <th>0</th>\n",
       "      <td>1</td>\n",
       "      <td>ADDITIONAL OFFENSE CATEGORIES</td>\n",
       "      <td>276</td>\n",
       "    </tr>\n",
       "    <tr>\n",
       "      <th>1</th>\n",
       "      <td>1</td>\n",
       "      <td>AGGRAVATED ASSAULT</td>\n",
       "      <td>139</td>\n",
       "    </tr>\n",
       "    <tr>\n",
       "      <th>2</th>\n",
       "      <td>1</td>\n",
       "      <td>ALL OTHER OFFENSES</td>\n",
       "      <td>200</td>\n",
       "    </tr>\n",
       "    <tr>\n",
       "      <th>3</th>\n",
       "      <td>1</td>\n",
       "      <td>ARSON</td>\n",
       "      <td>12</td>\n",
       "    </tr>\n",
       "    <tr>\n",
       "      <th>4</th>\n",
       "      <td>1</td>\n",
       "      <td>BURGLARY</td>\n",
       "      <td>811</td>\n",
       "    </tr>\n",
       "    <tr>\n",
       "      <th>5</th>\n",
       "      <td>1</td>\n",
       "      <td>CRIMINAL HOMICIDE</td>\n",
       "      <td>10</td>\n",
       "    </tr>\n",
       "    <tr>\n",
       "      <th>6</th>\n",
       "      <td>1</td>\n",
       "      <td>DISORDERLY CONDUCT</td>\n",
       "      <td>57</td>\n",
       "    </tr>\n",
       "    <tr>\n",
       "      <th>7</th>\n",
       "      <td>1</td>\n",
       "      <td>DRUG/NARCOTIC OFFENSES</td>\n",
       "      <td>354</td>\n",
       "    </tr>\n",
       "    <tr>\n",
       "      <th>8</th>\n",
       "      <td>1</td>\n",
       "      <td>EMBEZZLEMENT</td>\n",
       "      <td>95</td>\n",
       "    </tr>\n",
       "    <tr>\n",
       "      <th>9</th>\n",
       "      <td>1</td>\n",
       "      <td>FORGERY AND COUNTERFEITING</td>\n",
       "      <td>157</td>\n",
       "    </tr>\n",
       "  </tbody>\n",
       "</table>\n",
       "</div>"
      ],
      "text/plain": [
       "   month                        offense  count\n",
       "0      1  ADDITIONAL OFFENSE CATEGORIES    276\n",
       "1      1             AGGRAVATED ASSAULT    139\n",
       "2      1             ALL OTHER OFFENSES    200\n",
       "3      1                          ARSON     12\n",
       "4      1                       BURGLARY    811\n",
       "5      1              CRIMINAL HOMICIDE     10\n",
       "6      1             DISORDERLY CONDUCT     57\n",
       "7      1         DRUG/NARCOTIC OFFENSES    354\n",
       "8      1                   EMBEZZLEMENT     95\n",
       "9      1     FORGERY AND COUNTERFEITING    157"
      ]
     },
     "execution_count": 13,
     "metadata": {},
     "output_type": "execute_result"
    }
   ],
   "source": [
    "gb.head(10)"
   ]
  },
  {
   "cell_type": "code",
   "execution_count": 14,
   "metadata": {},
   "outputs": [],
   "source": [
    "piv = gb.pivot(index='month', columns='offense', values='count')"
   ]
  },
  {
   "cell_type": "code",
   "execution_count": 15,
   "metadata": {},
   "outputs": [],
   "source": [
    "piv = piv.fillna(0)\n",
    "piv.sort_index(inplace=True)"
   ]
  },
  {
   "cell_type": "code",
   "execution_count": 16,
   "metadata": {},
   "outputs": [
    {
     "data": {
      "text/html": [
       "<div>\n",
       "<style scoped>\n",
       "    .dataframe tbody tr th:only-of-type {\n",
       "        vertical-align: middle;\n",
       "    }\n",
       "\n",
       "    .dataframe tbody tr th {\n",
       "        vertical-align: top;\n",
       "    }\n",
       "\n",
       "    .dataframe thead th {\n",
       "        text-align: right;\n",
       "    }\n",
       "</style>\n",
       "<table border=\"1\" class=\"dataframe\">\n",
       "  <thead>\n",
       "    <tr style=\"text-align: right;\">\n",
       "      <th>offense</th>\n",
       "      <th>ADDITIONAL OFFENSE CATEGORIES</th>\n",
       "      <th>AGGRAVATED ASSAULT</th>\n",
       "      <th>ALL OTHER OFFENSES</th>\n",
       "      <th>ARSON</th>\n",
       "      <th>BURGLARY</th>\n",
       "      <th>CRIMINAL HOMICIDE</th>\n",
       "      <th>DISORDERLY CONDUCT</th>\n",
       "      <th>DRIVING WHILE IMPAIRED</th>\n",
       "      <th>DRUG/NARCOTIC OFFENSES</th>\n",
       "      <th>EMBEZZLEMENT</th>\n",
       "      <th>...</th>\n",
       "      <th>NON-REPORTABLE</th>\n",
       "      <th>OBSCENE MATERIAL / PORNOGRAPHY</th>\n",
       "      <th>OFFENSES AGAINST FAMILY</th>\n",
       "      <th>PROSTITUTION OFFENSES</th>\n",
       "      <th>ROBBERY</th>\n",
       "      <th>SEX OFFENSES</th>\n",
       "      <th>SIMPLE ASSAULT</th>\n",
       "      <th>STOLEN PROPERTY</th>\n",
       "      <th>VANDALISM</th>\n",
       "      <th>WEAPON LAW VIOLATIONS</th>\n",
       "    </tr>\n",
       "    <tr>\n",
       "      <th>month</th>\n",
       "      <th></th>\n",
       "      <th></th>\n",
       "      <th></th>\n",
       "      <th></th>\n",
       "      <th></th>\n",
       "      <th></th>\n",
       "      <th></th>\n",
       "      <th></th>\n",
       "      <th></th>\n",
       "      <th></th>\n",
       "      <th></th>\n",
       "      <th></th>\n",
       "      <th></th>\n",
       "      <th></th>\n",
       "      <th></th>\n",
       "      <th></th>\n",
       "      <th></th>\n",
       "      <th></th>\n",
       "      <th></th>\n",
       "      <th></th>\n",
       "      <th></th>\n",
       "    </tr>\n",
       "  </thead>\n",
       "  <tbody>\n",
       "    <tr>\n",
       "      <th>1</th>\n",
       "      <td>276.0</td>\n",
       "      <td>139.0</td>\n",
       "      <td>200.0</td>\n",
       "      <td>12.0</td>\n",
       "      <td>811.0</td>\n",
       "      <td>10.0</td>\n",
       "      <td>57.0</td>\n",
       "      <td>0.0</td>\n",
       "      <td>354.0</td>\n",
       "      <td>95.0</td>\n",
       "      <td>...</td>\n",
       "      <td>1165.0</td>\n",
       "      <td>8.0</td>\n",
       "      <td>3.0</td>\n",
       "      <td>1.0</td>\n",
       "      <td>218.0</td>\n",
       "      <td>11.0</td>\n",
       "      <td>903.0</td>\n",
       "      <td>22.0</td>\n",
       "      <td>436.0</td>\n",
       "      <td>43.0</td>\n",
       "    </tr>\n",
       "    <tr>\n",
       "      <th>2</th>\n",
       "      <td>270.0</td>\n",
       "      <td>98.0</td>\n",
       "      <td>193.0</td>\n",
       "      <td>6.0</td>\n",
       "      <td>697.0</td>\n",
       "      <td>4.0</td>\n",
       "      <td>55.0</td>\n",
       "      <td>0.0</td>\n",
       "      <td>385.0</td>\n",
       "      <td>57.0</td>\n",
       "      <td>...</td>\n",
       "      <td>1060.0</td>\n",
       "      <td>4.0</td>\n",
       "      <td>2.0</td>\n",
       "      <td>1.0</td>\n",
       "      <td>147.0</td>\n",
       "      <td>11.0</td>\n",
       "      <td>866.0</td>\n",
       "      <td>22.0</td>\n",
       "      <td>376.0</td>\n",
       "      <td>50.0</td>\n",
       "    </tr>\n",
       "    <tr>\n",
       "      <th>3</th>\n",
       "      <td>287.0</td>\n",
       "      <td>131.0</td>\n",
       "      <td>206.0</td>\n",
       "      <td>7.0</td>\n",
       "      <td>744.0</td>\n",
       "      <td>4.0</td>\n",
       "      <td>70.0</td>\n",
       "      <td>0.0</td>\n",
       "      <td>406.0</td>\n",
       "      <td>71.0</td>\n",
       "      <td>...</td>\n",
       "      <td>1203.0</td>\n",
       "      <td>6.0</td>\n",
       "      <td>6.0</td>\n",
       "      <td>1.0</td>\n",
       "      <td>145.0</td>\n",
       "      <td>15.0</td>\n",
       "      <td>932.0</td>\n",
       "      <td>27.0</td>\n",
       "      <td>466.0</td>\n",
       "      <td>56.0</td>\n",
       "    </tr>\n",
       "    <tr>\n",
       "      <th>4</th>\n",
       "      <td>303.0</td>\n",
       "      <td>132.0</td>\n",
       "      <td>219.0</td>\n",
       "      <td>8.0</td>\n",
       "      <td>852.0</td>\n",
       "      <td>5.0</td>\n",
       "      <td>81.0</td>\n",
       "      <td>8.0</td>\n",
       "      <td>406.0</td>\n",
       "      <td>72.0</td>\n",
       "      <td>...</td>\n",
       "      <td>1228.0</td>\n",
       "      <td>2.0</td>\n",
       "      <td>4.0</td>\n",
       "      <td>1.0</td>\n",
       "      <td>203.0</td>\n",
       "      <td>6.0</td>\n",
       "      <td>929.0</td>\n",
       "      <td>14.0</td>\n",
       "      <td>489.0</td>\n",
       "      <td>61.0</td>\n",
       "    </tr>\n",
       "    <tr>\n",
       "      <th>5</th>\n",
       "      <td>297.0</td>\n",
       "      <td>146.0</td>\n",
       "      <td>229.0</td>\n",
       "      <td>9.0</td>\n",
       "      <td>826.0</td>\n",
       "      <td>4.0</td>\n",
       "      <td>65.0</td>\n",
       "      <td>3.0</td>\n",
       "      <td>415.0</td>\n",
       "      <td>78.0</td>\n",
       "      <td>...</td>\n",
       "      <td>1265.0</td>\n",
       "      <td>5.0</td>\n",
       "      <td>2.0</td>\n",
       "      <td>0.0</td>\n",
       "      <td>202.0</td>\n",
       "      <td>19.0</td>\n",
       "      <td>944.0</td>\n",
       "      <td>26.0</td>\n",
       "      <td>459.0</td>\n",
       "      <td>51.0</td>\n",
       "    </tr>\n",
       "    <tr>\n",
       "      <th>6</th>\n",
       "      <td>247.0</td>\n",
       "      <td>140.0</td>\n",
       "      <td>182.0</td>\n",
       "      <td>5.0</td>\n",
       "      <td>827.0</td>\n",
       "      <td>5.0</td>\n",
       "      <td>61.0</td>\n",
       "      <td>0.0</td>\n",
       "      <td>351.0</td>\n",
       "      <td>62.0</td>\n",
       "      <td>...</td>\n",
       "      <td>1194.0</td>\n",
       "      <td>5.0</td>\n",
       "      <td>4.0</td>\n",
       "      <td>1.0</td>\n",
       "      <td>177.0</td>\n",
       "      <td>15.0</td>\n",
       "      <td>985.0</td>\n",
       "      <td>24.0</td>\n",
       "      <td>469.0</td>\n",
       "      <td>41.0</td>\n",
       "    </tr>\n",
       "    <tr>\n",
       "      <th>7</th>\n",
       "      <td>294.0</td>\n",
       "      <td>153.0</td>\n",
       "      <td>224.0</td>\n",
       "      <td>20.0</td>\n",
       "      <td>960.0</td>\n",
       "      <td>6.0</td>\n",
       "      <td>70.0</td>\n",
       "      <td>0.0</td>\n",
       "      <td>365.0</td>\n",
       "      <td>85.0</td>\n",
       "      <td>...</td>\n",
       "      <td>1301.0</td>\n",
       "      <td>3.0</td>\n",
       "      <td>10.0</td>\n",
       "      <td>0.0</td>\n",
       "      <td>215.0</td>\n",
       "      <td>10.0</td>\n",
       "      <td>1054.0</td>\n",
       "      <td>33.0</td>\n",
       "      <td>457.0</td>\n",
       "      <td>44.0</td>\n",
       "    </tr>\n",
       "    <tr>\n",
       "      <th>8</th>\n",
       "      <td>308.0</td>\n",
       "      <td>110.0</td>\n",
       "      <td>212.0</td>\n",
       "      <td>17.0</td>\n",
       "      <td>924.0</td>\n",
       "      <td>6.0</td>\n",
       "      <td>67.0</td>\n",
       "      <td>0.0</td>\n",
       "      <td>348.0</td>\n",
       "      <td>84.0</td>\n",
       "      <td>...</td>\n",
       "      <td>1164.0</td>\n",
       "      <td>6.0</td>\n",
       "      <td>3.0</td>\n",
       "      <td>2.0</td>\n",
       "      <td>236.0</td>\n",
       "      <td>13.0</td>\n",
       "      <td>1016.0</td>\n",
       "      <td>26.0</td>\n",
       "      <td>475.0</td>\n",
       "      <td>42.0</td>\n",
       "    </tr>\n",
       "    <tr>\n",
       "      <th>9</th>\n",
       "      <td>279.0</td>\n",
       "      <td>129.0</td>\n",
       "      <td>161.0</td>\n",
       "      <td>25.0</td>\n",
       "      <td>938.0</td>\n",
       "      <td>6.0</td>\n",
       "      <td>68.0</td>\n",
       "      <td>0.0</td>\n",
       "      <td>372.0</td>\n",
       "      <td>78.0</td>\n",
       "      <td>...</td>\n",
       "      <td>1230.0</td>\n",
       "      <td>5.0</td>\n",
       "      <td>3.0</td>\n",
       "      <td>2.0</td>\n",
       "      <td>221.0</td>\n",
       "      <td>21.0</td>\n",
       "      <td>937.0</td>\n",
       "      <td>30.0</td>\n",
       "      <td>371.0</td>\n",
       "      <td>49.0</td>\n",
       "    </tr>\n",
       "    <tr>\n",
       "      <th>10</th>\n",
       "      <td>293.0</td>\n",
       "      <td>110.0</td>\n",
       "      <td>188.0</td>\n",
       "      <td>13.0</td>\n",
       "      <td>765.0</td>\n",
       "      <td>2.0</td>\n",
       "      <td>48.0</td>\n",
       "      <td>0.0</td>\n",
       "      <td>409.0</td>\n",
       "      <td>95.0</td>\n",
       "      <td>...</td>\n",
       "      <td>1079.0</td>\n",
       "      <td>4.0</td>\n",
       "      <td>1.0</td>\n",
       "      <td>1.0</td>\n",
       "      <td>200.0</td>\n",
       "      <td>8.0</td>\n",
       "      <td>846.0</td>\n",
       "      <td>32.0</td>\n",
       "      <td>389.0</td>\n",
       "      <td>46.0</td>\n",
       "    </tr>\n",
       "    <tr>\n",
       "      <th>11</th>\n",
       "      <td>274.0</td>\n",
       "      <td>124.0</td>\n",
       "      <td>173.0</td>\n",
       "      <td>13.0</td>\n",
       "      <td>873.0</td>\n",
       "      <td>5.0</td>\n",
       "      <td>36.0</td>\n",
       "      <td>0.0</td>\n",
       "      <td>376.0</td>\n",
       "      <td>77.0</td>\n",
       "      <td>...</td>\n",
       "      <td>1008.0</td>\n",
       "      <td>4.0</td>\n",
       "      <td>4.0</td>\n",
       "      <td>0.0</td>\n",
       "      <td>192.0</td>\n",
       "      <td>7.0</td>\n",
       "      <td>839.0</td>\n",
       "      <td>22.0</td>\n",
       "      <td>350.0</td>\n",
       "      <td>53.0</td>\n",
       "    </tr>\n",
       "    <tr>\n",
       "      <th>12</th>\n",
       "      <td>245.0</td>\n",
       "      <td>123.0</td>\n",
       "      <td>180.0</td>\n",
       "      <td>6.0</td>\n",
       "      <td>822.0</td>\n",
       "      <td>3.0</td>\n",
       "      <td>42.0</td>\n",
       "      <td>0.0</td>\n",
       "      <td>331.0</td>\n",
       "      <td>101.0</td>\n",
       "      <td>...</td>\n",
       "      <td>872.0</td>\n",
       "      <td>5.0</td>\n",
       "      <td>3.0</td>\n",
       "      <td>0.0</td>\n",
       "      <td>203.0</td>\n",
       "      <td>3.0</td>\n",
       "      <td>719.0</td>\n",
       "      <td>19.0</td>\n",
       "      <td>296.0</td>\n",
       "      <td>43.0</td>\n",
       "    </tr>\n",
       "  </tbody>\n",
       "</table>\n",
       "<p>12 rows × 26 columns</p>\n",
       "</div>"
      ],
      "text/plain": [
       "offense  ADDITIONAL OFFENSE CATEGORIES  AGGRAVATED ASSAULT  \\\n",
       "month                                                        \n",
       "1                                276.0               139.0   \n",
       "2                                270.0                98.0   \n",
       "3                                287.0               131.0   \n",
       "4                                303.0               132.0   \n",
       "5                                297.0               146.0   \n",
       "6                                247.0               140.0   \n",
       "7                                294.0               153.0   \n",
       "8                                308.0               110.0   \n",
       "9                                279.0               129.0   \n",
       "10                               293.0               110.0   \n",
       "11                               274.0               124.0   \n",
       "12                               245.0               123.0   \n",
       "\n",
       "offense  ALL OTHER OFFENSES  ARSON  BURGLARY  CRIMINAL HOMICIDE  \\\n",
       "month                                                             \n",
       "1                     200.0   12.0     811.0               10.0   \n",
       "2                     193.0    6.0     697.0                4.0   \n",
       "3                     206.0    7.0     744.0                4.0   \n",
       "4                     219.0    8.0     852.0                5.0   \n",
       "5                     229.0    9.0     826.0                4.0   \n",
       "6                     182.0    5.0     827.0                5.0   \n",
       "7                     224.0   20.0     960.0                6.0   \n",
       "8                     212.0   17.0     924.0                6.0   \n",
       "9                     161.0   25.0     938.0                6.0   \n",
       "10                    188.0   13.0     765.0                2.0   \n",
       "11                    173.0   13.0     873.0                5.0   \n",
       "12                    180.0    6.0     822.0                3.0   \n",
       "\n",
       "offense  DISORDERLY CONDUCT  DRIVING WHILE IMPAIRED  DRUG/NARCOTIC OFFENSES  \\\n",
       "month                                                                         \n",
       "1                      57.0                     0.0                   354.0   \n",
       "2                      55.0                     0.0                   385.0   \n",
       "3                      70.0                     0.0                   406.0   \n",
       "4                      81.0                     8.0                   406.0   \n",
       "5                      65.0                     3.0                   415.0   \n",
       "6                      61.0                     0.0                   351.0   \n",
       "7                      70.0                     0.0                   365.0   \n",
       "8                      67.0                     0.0                   348.0   \n",
       "9                      68.0                     0.0                   372.0   \n",
       "10                     48.0                     0.0                   409.0   \n",
       "11                     36.0                     0.0                   376.0   \n",
       "12                     42.0                     0.0                   331.0   \n",
       "\n",
       "offense  EMBEZZLEMENT          ...            NON-REPORTABLE  \\\n",
       "month                          ...                             \n",
       "1                95.0          ...                    1165.0   \n",
       "2                57.0          ...                    1060.0   \n",
       "3                71.0          ...                    1203.0   \n",
       "4                72.0          ...                    1228.0   \n",
       "5                78.0          ...                    1265.0   \n",
       "6                62.0          ...                    1194.0   \n",
       "7                85.0          ...                    1301.0   \n",
       "8                84.0          ...                    1164.0   \n",
       "9                78.0          ...                    1230.0   \n",
       "10               95.0          ...                    1079.0   \n",
       "11               77.0          ...                    1008.0   \n",
       "12              101.0          ...                     872.0   \n",
       "\n",
       "offense  OBSCENE MATERIAL / PORNOGRAPHY  OFFENSES AGAINST FAMILY  \\\n",
       "month                                                              \n",
       "1                                   8.0                      3.0   \n",
       "2                                   4.0                      2.0   \n",
       "3                                   6.0                      6.0   \n",
       "4                                   2.0                      4.0   \n",
       "5                                   5.0                      2.0   \n",
       "6                                   5.0                      4.0   \n",
       "7                                   3.0                     10.0   \n",
       "8                                   6.0                      3.0   \n",
       "9                                   5.0                      3.0   \n",
       "10                                  4.0                      1.0   \n",
       "11                                  4.0                      4.0   \n",
       "12                                  5.0                      3.0   \n",
       "\n",
       "offense  PROSTITUTION OFFENSES  ROBBERY  SEX OFFENSES  SIMPLE ASSAULT  \\\n",
       "month                                                                   \n",
       "1                          1.0    218.0          11.0           903.0   \n",
       "2                          1.0    147.0          11.0           866.0   \n",
       "3                          1.0    145.0          15.0           932.0   \n",
       "4                          1.0    203.0           6.0           929.0   \n",
       "5                          0.0    202.0          19.0           944.0   \n",
       "6                          1.0    177.0          15.0           985.0   \n",
       "7                          0.0    215.0          10.0          1054.0   \n",
       "8                          2.0    236.0          13.0          1016.0   \n",
       "9                          2.0    221.0          21.0           937.0   \n",
       "10                         1.0    200.0           8.0           846.0   \n",
       "11                         0.0    192.0           7.0           839.0   \n",
       "12                         0.0    203.0           3.0           719.0   \n",
       "\n",
       "offense  STOLEN PROPERTY  VANDALISM  WEAPON LAW VIOLATIONS  \n",
       "month                                                       \n",
       "1                   22.0      436.0                   43.0  \n",
       "2                   22.0      376.0                   50.0  \n",
       "3                   27.0      466.0                   56.0  \n",
       "4                   14.0      489.0                   61.0  \n",
       "5                   26.0      459.0                   51.0  \n",
       "6                   24.0      469.0                   41.0  \n",
       "7                   33.0      457.0                   44.0  \n",
       "8                   26.0      475.0                   42.0  \n",
       "9                   30.0      371.0                   49.0  \n",
       "10                  32.0      389.0                   46.0  \n",
       "11                  22.0      350.0                   53.0  \n",
       "12                  19.0      296.0                   43.0  \n",
       "\n",
       "[12 rows x 26 columns]"
      ]
     },
     "execution_count": 16,
     "metadata": {},
     "output_type": "execute_result"
    }
   ],
   "source": [
    "piv"
   ]
  },
  {
   "cell_type": "code",
   "execution_count": 17,
   "metadata": {},
   "outputs": [
    {
     "data": {
      "text/plain": [
       "Index(['ADDITIONAL OFFENSE CATEGORIES', 'AGGRAVATED ASSAULT',\n",
       "       'ALL OTHER OFFENSES', 'ARSON', 'BURGLARY', 'CRIMINAL HOMICIDE',\n",
       "       'DISORDERLY CONDUCT', 'DRIVING WHILE IMPAIRED',\n",
       "       'DRUG/NARCOTIC OFFENSES', 'EMBEZZLEMENT', 'FORGERY AND COUNTERFEITING',\n",
       "       'FRAUD', 'GAMBLING OFFENSES', 'LARCENY - THEFT',\n",
       "       'LIQUOR LAW VIOLATIONS', 'MOTOR VEHICLE THEFT', 'NON-REPORTABLE',\n",
       "       'OBSCENE MATERIAL / PORNOGRAPHY', 'OFFENSES AGAINST FAMILY',\n",
       "       'PROSTITUTION OFFENSES', 'ROBBERY', 'SEX OFFENSES', 'SIMPLE ASSAULT',\n",
       "       'STOLEN PROPERTY', 'VANDALISM', 'WEAPON LAW VIOLATIONS'],\n",
       "      dtype='object', name='offense')"
      ]
     },
     "execution_count": 17,
     "metadata": {},
     "output_type": "execute_result"
    }
   ],
   "source": [
    "piv.columns"
   ]
  },
  {
   "cell_type": "code",
   "execution_count": 18,
   "metadata": {},
   "outputs": [
    {
     "data": {
      "text/plain": [
       "26"
      ]
     },
     "execution_count": 18,
     "metadata": {},
     "output_type": "execute_result"
    }
   ],
   "source": [
    "len(piv.columns)"
   ]
  },
  {
   "cell_type": "code",
   "execution_count": 45,
   "metadata": {},
   "outputs": [],
   "source": [
    "X = piv[['BURGLARY', 'LARCENY - THEFT']].values"
   ]
  },
  {
   "cell_type": "code",
   "execution_count": 46,
   "metadata": {},
   "outputs": [
    {
     "data": {
      "text/plain": [
       "numpy.ndarray"
      ]
     },
     "execution_count": 46,
     "metadata": {},
     "output_type": "execute_result"
    }
   ],
   "source": [
    "type(X)"
   ]
  },
  {
   "cell_type": "code",
   "execution_count": 50,
   "metadata": {},
   "outputs": [
    {
     "data": {
      "text/plain": [
       "array([[ 811., 2184.],\n",
       "       [ 697., 1909.],\n",
       "       [ 744., 2028.],\n",
       "       [ 852., 2356.],\n",
       "       [ 826., 2450.],\n",
       "       [ 827., 2581.],\n",
       "       [ 960., 2741.],\n",
       "       [ 924., 2652.],\n",
       "       [ 938., 2512.],\n",
       "       [ 765., 2063.],\n",
       "       [ 873., 2203.],\n",
       "       [ 822., 1978.]])"
      ]
     },
     "execution_count": 50,
     "metadata": {},
     "output_type": "execute_result"
    }
   ],
   "source": [
    "X"
   ]
  },
  {
   "cell_type": "code",
   "execution_count": 47,
   "metadata": {},
   "outputs": [],
   "source": [
    "#X=np.matrix(zip(f10, f11))"
   ]
  },
  {
   "cell_type": "code",
   "execution_count": 52,
   "metadata": {},
   "outputs": [],
   "source": [
    "def cluster_and_plot(X):\n",
    "    Z = linkage(X, 'ward')\n",
    "    plt.figure(figsize=(25, 10))\n",
    "    plt.title('Hierarchical Clustering Dendrogram')\n",
    "    plt.xlabel('sample index')\n",
    "    plt.ylabel('distance')\n",
    "    dendrogram(\n",
    "        Z,\n",
    "        #leaf_rotation=90.,  # rotates the x axis labels\n",
    "        leaf_font_size=20.,  # font size for the x axis labels\n",
    "    )\n",
    "    plt.show()"
   ]
  },
  {
   "cell_type": "code",
   "execution_count": 53,
   "metadata": {},
   "outputs": [
    {
     "data": {
      "image/png": "[encoded data removed]",
      "text/plain": [
       "<Figure size 1800x720 with 1 Axes>"
      ]
     },
     "metadata": {},
     "output_type": "display_data"
    }
   ],
   "source": [
    "cluster_and_plot(X)"
   ]
  },
  {
   "cell_type": "markdown",
   "metadata": {},
   "source": [
    "_remember to add \"one\" to get the proper month - for example 0 is January, 6 is July_"
   ]
  },
  {
   "cell_type": "markdown",
   "metadata": {
    "collapsed": true
   },
   "source": [
    "First cluster is winter, second cluster is summer. January and November are most similar. July and August are also similar."
   ]
  },
  {
   "cell_type": "code",
   "execution_count": 54,
   "metadata": {},
   "outputs": [],
   "source": [
    "X = piv[['AGGRAVATED ASSAULT', 'CRIMINAL HOMICIDE',\n",
    "       'DISORDERLY CONDUCT', 'DRIVING WHILE IMPAIRED',\n",
    "       'DRUG/NARCOTIC OFFENSES',]].values"
   ]
  },
  {
   "cell_type": "code",
   "execution_count": 55,
   "metadata": {},
   "outputs": [
    {
     "data": {
      "image/png": "[encoded data removed]",
      "text/plain": [
       "<Figure size 1800x720 with 1 Axes>"
      ]
     },
     "metadata": {},
     "output_type": "display_data"
    }
   ],
   "source": [
    "cluster_and_plot(X)"
   ]
  },
  {
   "cell_type": "markdown",
   "metadata": {},
   "source": [
    "again we see a summer and winter cluster "
   ]
  },
  {
   "cell_type": "markdown",
   "metadata": {},
   "source": [
    "but the summer cluster includes January "
   ]
  },
  {
   "cell_type": "code",
   "execution_count": null,
   "metadata": {},
   "outputs": [],
   "source": []
  }
 ],
 "metadata": {
  "kernelspec": {
   "display_name": "Python 3",
   "language": "python",
   "name": "python3"
  },
  "language_info": {
   "codemirror_mode": {
    "name": "ipython",
    "version": 3
   },
   "file_extension": ".py",
   "mimetype": "text/x-python",
   "name": "python",
   "nbconvert_exporter": "python",
   "pygments_lexer": "ipython3",
   "version": "3.6.5"
  }
 },
 "nbformat": 4,
 "nbformat_minor": 2
}
